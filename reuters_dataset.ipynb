{
 "cells": [
  {
   "cell_type": "markdown",
   "metadata": {},
   "source": [
    "# WITH EPOCHS=20"
   ]
  },
  {
   "cell_type": "code",
   "execution_count": 2,
   "metadata": {},
   "outputs": [],
   "source": [
    "from keras.datasets import reuters\n",
    "\n",
    "(train_data, train_labels), (test_data, test_labels) = reuters.load_data(num_words=10000)"
   ]
  },
  {
   "cell_type": "code",
   "execution_count": 4,
   "metadata": {},
   "outputs": [],
   "source": [
    "import numpy as np\n",
    "\n",
    "def vectorize_sequences(sequences, dimension=10000):\n",
    "    results = np.zeros((len(sequences), dimension))\n",
    "    for i, sequence in enumerate(sequences):\n",
    "        results[i, sequence] = 1.\n",
    "    return results\n",
    "\n",
    "x_train = vectorize_sequences(train_data)\n",
    "x_test = vectorize_sequences(test_data)"
   ]
  },
  {
   "cell_type": "code",
   "execution_count": 5,
   "metadata": {},
   "outputs": [],
   "source": [
    "from keras.utils.np_utils import to_categorical\n",
    "\n",
    "one_hot_train_labels = to_categorical(train_labels)\n",
    "one_hot_test_labels = to_categorical(test_labels)"
   ]
  },
  {
   "cell_type": "code",
   "execution_count": 6,
   "metadata": {},
   "outputs": [],
   "source": [
    "from keras import models\n",
    "from keras import layers\n",
    "\n",
    "model = models.Sequential()\n",
    "model.add(layers.Dense(64, activation='relu', input_shape=(10000,)))\n",
    "model.add(layers.Dense(64, activation='relu'))\n",
    "model.add(layers.Dense(46, activation='softmax'))"
   ]
  },
  {
   "cell_type": "code",
   "execution_count": 7,
   "metadata": {},
   "outputs": [],
   "source": [
    "model.compile(optimizer='rmsprop', loss='categorical_crossentropy', metrics=['accuracy'])"
   ]
  },
  {
   "cell_type": "code",
   "execution_count": 8,
   "metadata": {},
   "outputs": [],
   "source": [
    "x_val = x_train[:1000]\n",
    "partial_x_train = x_train[1000:]\n",
    "\n",
    "y_val = one_hot_train_labels[:1000]\n",
    "partial_y_train = one_hot_train_labels[1000:]"
   ]
  },
  {
   "cell_type": "code",
   "execution_count": 9,
   "metadata": {},
   "outputs": [
    {
     "name": "stdout",
     "output_type": "stream",
     "text": [
      "WARNING:tensorflow:From C:\\Users\\Hasan\\Anaconda3\\lib\\site-packages\\keras\\backend\\tensorflow_backend.py:422: The name tf.global_variables is deprecated. Please use tf.compat.v1.global_variables instead.\n",
      "\n",
      "Train on 7982 samples, validate on 1000 samples\n",
      "Epoch 1/20\n",
      "7982/7982 [==============================] - 2s 263us/step - loss: 2.6917 - accuracy: 0.5302 - val_loss: 1.7359 - val_accuracy: 0.6410\n",
      "Epoch 2/20\n",
      "7982/7982 [==============================] - 1s 132us/step - loss: 1.4048 - accuracy: 0.7120 - val_loss: 1.2895 - val_accuracy: 0.7220\n",
      "Epoch 3/20\n",
      "7982/7982 [==============================] - 1s 129us/step - loss: 1.0241 - accuracy: 0.7853 - val_loss: 1.1138 - val_accuracy: 0.7530\n",
      "Epoch 4/20\n",
      "7982/7982 [==============================] - 1s 119us/step - loss: 0.8029 - accuracy: 0.8345 - val_loss: 0.9963 - val_accuracy: 0.7900\n",
      "Epoch 5/20\n",
      "7982/7982 [==============================] - 1s 124us/step - loss: 0.6396 - accuracy: 0.8673 - val_loss: 0.9552 - val_accuracy: 0.8030\n",
      "Epoch 6/20\n",
      "7982/7982 [==============================] - 1s 125us/step - loss: 0.5115 - accuracy: 0.8931 - val_loss: 0.9180 - val_accuracy: 0.8150\n",
      "Epoch 7/20\n",
      "7982/7982 [==============================] - 1s 128us/step - loss: 0.4152 - accuracy: 0.9124 - val_loss: 0.8829 - val_accuracy: 0.8180\n",
      "Epoch 8/20\n",
      "7982/7982 [==============================] - 1s 129us/step - loss: 0.3350 - accuracy: 0.9281 - val_loss: 0.8787 - val_accuracy: 0.8170\n",
      "Epoch 9/20\n",
      "7982/7982 [==============================] - 1s 126us/step - loss: 0.2821 - accuracy: 0.9381 - val_loss: 0.8754 - val_accuracy: 0.8230\n",
      "Epoch 10/20\n",
      "7982/7982 [==============================] - 1s 125us/step - loss: 0.2330 - accuracy: 0.9459 - val_loss: 0.8852 - val_accuracy: 0.8210\n",
      "Epoch 11/20\n",
      "7982/7982 [==============================] - 1s 131us/step - loss: 0.2024 - accuracy: 0.9500 - val_loss: 0.9077 - val_accuracy: 0.8100\n",
      "Epoch 12/20\n",
      "7982/7982 [==============================] - 1s 126us/step - loss: 0.1821 - accuracy: 0.9501 - val_loss: 0.9108 - val_accuracy: 0.8210\n",
      "Epoch 13/20\n",
      "7982/7982 [==============================] - 1s 128us/step - loss: 0.1595 - accuracy: 0.9550 - val_loss: 0.9781 - val_accuracy: 0.8030\n",
      "Epoch 14/20\n",
      "7982/7982 [==============================] - 1s 124us/step - loss: 0.1528 - accuracy: 0.9539 - val_loss: 0.9781 - val_accuracy: 0.8060\n",
      "Epoch 15/20\n",
      "7982/7982 [==============================] - 1s 125us/step - loss: 0.1367 - accuracy: 0.9548 - val_loss: 0.9528 - val_accuracy: 0.8160\n",
      "Epoch 16/20\n",
      "7982/7982 [==============================] - 1s 126us/step - loss: 0.1301 - accuracy: 0.9565 - val_loss: 1.0108 - val_accuracy: 0.8070\n",
      "Epoch 17/20\n",
      "7982/7982 [==============================] - 1s 125us/step - loss: 0.1288 - accuracy: 0.9564 - val_loss: 1.0008 - val_accuracy: 0.8000\n",
      "Epoch 18/20\n",
      "7982/7982 [==============================] - 1s 121us/step - loss: 0.1191 - accuracy: 0.9557 - val_loss: 1.0430 - val_accuracy: 0.8080\n",
      "Epoch 19/20\n",
      "7982/7982 [==============================] - 1s 127us/step - loss: 0.1110 - accuracy: 0.9572 - val_loss: 1.0470 - val_accuracy: 0.8080\n",
      "Epoch 20/20\n",
      "7982/7982 [==============================] - 1s 121us/step - loss: 0.1122 - accuracy: 0.9582 - val_loss: 1.0816 - val_accuracy: 0.8100\n"
     ]
    }
   ],
   "source": [
    "history = model.fit(partial_x_train, partial_y_train, epochs=20, batch_size=512, validation_data=(x_val, y_val))"
   ]
  },
  {
   "cell_type": "code",
   "execution_count": 10,
   "metadata": {},
   "outputs": [
    {
     "data": {
      "text/plain": [
       "<Figure size 640x480 with 1 Axes>"
      ]
     },
     "metadata": {},
     "output_type": "display_data"
    }
   ],
   "source": [
    "import matplotlib.pyplot as plt\n",
    "\n",
    "loss = history.history['loss']\n",
    "val_loss = history.history['val_loss']\n",
    "\n",
    "epochs = range(1, len(loss) + 1)\n",
    "\n",
    "plt.plot(epochs, loss, 'bo', label='Training loss')\n",
    "plt.plot(epochs, val_loss, 'b', label='Validation loss')\n",
    "\n",
    "plt.title('Training and validation loss')\n",
    "\n",
    "plt.xlabel('Epochs')\n",
    "plt.ylabel('Loss')\n",
    "\n",
    "plt.legend()\n",
    "plt.show()"
   ]
  },
  {
   "cell_type": "code",
   "execution_count": 17,
   "metadata": {},
   "outputs": [
    {
     "data": {
      "image/png": "[encoded data removed]",
      "text/plain": [
       "<Figure size 432x288 with 1 Axes>"
      ]
     },
     "metadata": {
      "needs_background": "light"
     },
     "output_type": "display_data"
    }
   ],
   "source": [
    "acc = history.history['accuracy']\n",
    "val_acc = history.history['val_accuracy']\n",
    "\n",
    "plt.plot(epochs, acc, 'bo', label='Training acc')\n",
    "plt.plot(epochs, val_acc, 'b', label='Validation acc')\n",
    "\n",
    "plt.title('Training and validation accuracy')\n",
    "\n",
    "plt.xlabel('Epochs')\n",
    "plt.ylabel('Loss')\n",
    "\n",
    "plt.legend()\n",
    "plt.show()"
   ]
  },
  {
   "cell_type": "markdown",
   "metadata": {},
   "source": [
    "# WITH EPOCHS=9"
   ]
  },
  {
   "cell_type": "code",
   "execution_count": 18,
   "metadata": {},
   "outputs": [
    {
     "name": "stdout",
     "output_type": "stream",
     "text": [
      "Train on 7982 samples, validate on 1000 samples\n",
      "Epoch 1/9\n",
      "7982/7982 [==============================] - 1s 151us/step - loss: 2.5434 - accuracy: 0.5254 - val_loss: 1.7105 - val_accuracy: 0.6400\n",
      "Epoch 2/9\n",
      "7982/7982 [==============================] - 1s 127us/step - loss: 1.3886 - accuracy: 0.7050 - val_loss: 1.2875 - val_accuracy: 0.7090\n",
      "Epoch 3/9\n",
      "7982/7982 [==============================] - 1s 127us/step - loss: 1.0377 - accuracy: 0.7720 - val_loss: 1.1229 - val_accuracy: 0.7540\n",
      "Epoch 4/9\n",
      "7982/7982 [==============================] - 1s 130us/step - loss: 0.8182 - accuracy: 0.8271 - val_loss: 1.0367 - val_accuracy: 0.7720\n",
      "Epoch 5/9\n",
      "7982/7982 [==============================] - 1s 126us/step - loss: 0.6534 - accuracy: 0.8602 - val_loss: 0.9728 - val_accuracy: 0.7750\n",
      "Epoch 6/9\n",
      "7982/7982 [==============================] - 1s 119us/step - loss: 0.5249 - accuracy: 0.8869 - val_loss: 0.9258 - val_accuracy: 0.8000\n",
      "Epoch 7/9\n",
      "7982/7982 [==============================] - 1s 122us/step - loss: 0.4242 - accuracy: 0.9107 - val_loss: 0.9079 - val_accuracy: 0.8080\n",
      "Epoch 8/9\n",
      "7982/7982 [==============================] - 1s 119us/step - loss: 0.3504 - accuracy: 0.9248 - val_loss: 0.9227 - val_accuracy: 0.8100\n",
      "Epoch 9/9\n",
      "7982/7982 [==============================] - 1s 121us/step - loss: 0.2845 - accuracy: 0.9389 - val_loss: 0.9081 - val_accuracy: 0.8130\n",
      "2246/2246 [==============================] - 0s 163us/step\n"
     ]
    }
   ],
   "source": [
    "model = models.Sequential()\n",
    "model.add(layers.Dense(64, activation='relu', input_shape=(10000,)))\n",
    "model.add(layers.Dense(64, activation='relu'))\n",
    "model.add(layers.Dense(46, activation='softmax'))\n",
    "\n",
    "model.compile(optimizer='rmsprop', loss='categorical_crossentropy', metrics=['accuracy'])\n",
    "\n",
    "model.fit(partial_x_train, partial_y_train, epochs=9, batch_size=512, validation_data=(x_val, y_val))\n",
    "\n",
    "results = model.evaluate(x_test, one_hot_test_labels)"
   ]
  },
  {
   "cell_type": "code",
   "execution_count": 20,
   "metadata": {},
   "outputs": [
    {
     "name": "stdout",
     "output_type": "stream",
     "text": [
      "[1.0078869589927042, 0.7818343639373779]\n"
     ]
    }
   ],
   "source": [
    "print(results)"
   ]
  },
  {
   "cell_type": "code",
   "execution_count": 23,
   "metadata": {},
   "outputs": [],
   "source": [
    "predictions = model.predict(x_test)"
   ]
  },
  {
   "cell_type": "code",
   "execution_count": 24,
   "metadata": {},
   "outputs": [
    {
     "data": {
      "text/plain": [
       "(46,)"
      ]
     },
     "execution_count": 24,
     "metadata": {},
     "output_type": "execute_result"
    }
   ],
   "source": [
    "predictions[0].shape"
   ]
  },
  {
   "cell_type": "code",
   "execution_count": 25,
   "metadata": {},
   "outputs": [
    {
     "data": {
      "text/plain": [
       "1.0000002"
      ]
     },
     "execution_count": 25,
     "metadata": {},
     "output_type": "execute_result"
    }
   ],
   "source": [
    "np.sum(predictions[0])"
   ]
  },
  {
   "cell_type": "code",
   "execution_count": 26,
   "metadata": {},
   "outputs": [
    {
     "name": "stdout",
     "output_type": "stream",
     "text": [
      "<class 'numpy.ndarray'>\n"
     ]
    }
   ],
   "source": [
    "print(type(predictions[0]))"
   ]
  },
  {
   "cell_type": "code",
   "execution_count": 27,
   "metadata": {},
   "outputs": [
    {
     "data": {
      "text/plain": [
       "3"
      ]
     },
     "execution_count": 27,
     "metadata": {},
     "output_type": "execute_result"
    }
   ],
   "source": [
    "np.argmax(predictions[0])"
   ]
  },
  {
   "cell_type": "code",
   "execution_count": null,
   "metadata": {},
   "outputs": [],
   "source": []
  }
 ],
 "metadata": {
  "kernelspec": {
   "display_name": "Python 3",
   "language": "python",
   "name": "python3"
  },
  "language_info": {
   "codemirror_mode": {
    "name": "ipython",
    "version": 3
   },
   "file_extension": ".py",
   "mimetype": "text/x-python",
   "name": "python",
   "nbconvert_exporter": "python",
   "pygments_lexer": "ipython3",
   "version": "3.7.3"
  }
 },
 "nbformat": 4,
 "nbformat_minor": 2
}
